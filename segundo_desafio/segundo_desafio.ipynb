{
 "metadata": {
  "name": ""
 },
 "nbformat": 3,
 "nbformat_minor": 0,
 "worksheets": [
  {
   "cells": [
    {
     "cell_type": "markdown",
     "metadata": {},
     "source": [
      "<h1>\n",
      "Soluci\u00f3n al segundo desafio: Leyendo y aleatorizando listas\n",
      "<h1>"
     ]
    },
    {
     "cell_type": "markdown",
     "metadata": {},
     "source": [
      "<h2>Shebang<h2>"
     ]
    },
    {
     "cell_type": "code",
     "collapsed": false,
     "input": [
      "#!/usr/bin/python"
     ],
     "language": "python",
     "metadata": {},
     "outputs": [],
     "prompt_number": 1
    },
    {
     "cell_type": "markdown",
     "metadata": {},
     "source": [
      "<h2>Librerias Necesarias<h2>"
     ]
    },
    {
     "cell_type": "markdown",
     "metadata": {},
     "source": [
      "El m\u00f3dulo <b>OS</b> nos permite acceder a funcionalidades dependientes del Sistema Operativo. <a href=\"http://librosweb.es/libro/python/capitulo_10/modulos_de_sistema.html\">Mas informaci\u00f3n</a>\n",
      "\n",
      "El m\u00f3dulo <b>GLOB</b> busca todos los archivos con una extension dada. <a href=\"https://code.google.com/p/asi-iesenlaces/wiki/ArchivosyDirectoriosConPython\">Mas informaci\u00f3n</a>\n",
      "\n",
      "EL paquete <b>NumPy</b> es una poderosa herramienta de computaci\u00f3n cientifica. <a href=\"http://www.numpy.org/\">Mas informaci\u00f3n</a>\n",
      "\n",
      "El m\u00f3dulo <b>RANDOM</b> implementa un generador de numeros pseudo-aleatorios. En este caso aleatorizara los elementos de una lista. <a href=\"https://docs.python.org/2/library/random.html\">Mas informaci\u00f3n</a>"
     ]
    },
    {
     "cell_type": "code",
     "collapsed": false,
     "input": [
      "import os\n",
      "import glob \n",
      "import numpy as np\n",
      "import random"
     ],
     "language": "python",
     "metadata": {},
     "outputs": [],
     "prompt_number": 2
    },
    {
     "cell_type": "markdown",
     "metadata": {},
     "source": [
      "<h2>Estableciendo directorio de Trabajo<h2>"
     ]
    },
    {
     "cell_type": "code",
     "collapsed": false,
     "input": [
      "print (\"Digite el directorio de trabajo:\") \n",
      "directorio=raw_input()\n",
      "\n",
      "while os.path.exists(directorio)==False:\n",
      "    print\"Directorio Invalido digite de nuevo:\"\n",
      "    directorio=raw_input()\n",
      "\n",
      "os.chdir(directorio)\n",
      "actual= os.getcwd()\n",
      "print \"Su directorio actual es: \"\n",
      "print \"\"\n",
      "print \"%s\" %actual\n",
      "\n",
      "lista = (glob.glob(\"*.txt\") and glob.glob(\"*\"))  \n",
      "print \"Este directorio contiene los siguientes archivos\" \n",
      "print \"\"\n",
      "print \"%s\" %lista\n",
      "print \"\"\n",
      "print \"Desea continuar (s). Volver al paso anterior(n): \"\n",
      "confirmacion=raw_input()\n",
      "\n",
      "while confirmacion!=\"s\":\n",
      "    print (\"Digite el directorio de trabajo:\") \n",
      "    directorio=raw_input()\n",
      "\n",
      "    while os.path.exists(directorio)==False:\n",
      "        print\"Directorio Invalido digite de nuevo:\"\n",
      "        directorio=raw_input()\n",
      "    os.chdir(directorio)\n",
      "    actual= os.getcwd()\n",
      "    print \"Su directorio actual es:\"\n",
      "    print \"\"\n",
      "    print \"%s\" %actual\n",
      "    print \"\"\n",
      "    lista = glob.glob(\"*.txt\") and glob.glob(\"*\")\n",
      "    print \"Este directorio contiene los siguientes archivos\" \n",
      "    print \"\"\n",
      "    print \"%s\"%lista\n",
      "    print \"\"\n",
      "    print \"Desea continuar (s) Volver al paso anterior(n): \"\n",
      "    confirmacion=raw_input()"
     ],
     "language": "python",
     "metadata": {},
     "outputs": [
      {
       "output_type": "stream",
       "stream": "stdout",
       "text": [
        "Digite el directorio de trabajo:\n"
       ]
      }
     ],
     "prompt_number": "*"
    },
    {
     "cell_type": "markdown",
     "metadata": {},
     "source": [
      "<h2>Cargando las listas de archivos<h2>"
     ]
    },
    {
     "cell_type": "code",
     "collapsed": true,
     "input": [
      "listNames = np.array([])    \n",
      "for i in lista:\n",
      "    xfile=i\n",
      "    stringx=np.loadtxt(open(xfile, \"r\"),dtype=np.str)\n",
      "    listNames = np.append(listNames,stringx)\n",
      "\n",
      "print \"Los elementos que seran aleatorizados son:\"\n",
      "print \"\"\n",
      "print listNames\n",
      "print \"\"\n",
      "print \"Presione (s) para continuar, (n) para salir\"\n",
      "confirmacion=raw_input()"
     ],
     "language": "python",
     "metadata": {},
     "outputs": [],
     "prompt_number": "*"
    },
    {
     "cell_type": "markdown",
     "metadata": {},
     "source": [
      "<h2>Aleatorizando las listas<h2>"
     ]
    },
    {
     "cell_type": "code",
     "collapsed": false,
     "input": [
      "if confirmacion != \"s\":\n",
      "    print \"Que tenga un buen d\u00eda y recuerde:\"\n",
      "    print \"A ESTUDIAR PARA LUCHAR\"\n",
      "    print \"A LUCHAR PARA ESTUDIAR\"\n",
      "    \n",
      "else:\n",
      "    random.shuffle(listNames)\n",
      "    print \"El orden para los siguientes desafios, es el siguiente:\"\n",
      "    print \"\"\n",
      "    for w in listNames:\n",
      "        print w\n",
      "    print \"\" \n",
      "    print \"Que tenga un buen d\u00eda y recuerde:\"\n",
      "    print \"A ESTUDIAR PARA LUCHAR   \"\n",
      "    print \"A LUCHAR PARA ESTUDIAR\"\n",
      "    print \"\"\n",
      "    print \"Presione enter para salir\"\n",
      "    raw_input()\n"
     ],
     "language": "python",
     "metadata": {},
     "outputs": [],
     "prompt_number": "*"
    }
   ],
   "metadata": {}
  }
 ]
}